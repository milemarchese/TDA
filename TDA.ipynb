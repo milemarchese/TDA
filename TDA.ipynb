{
 "cells": [
  {
   "cell_type": "markdown",
   "metadata": {},
   "source": [
    "## Gale-Shapley\n",
    "\n",
    "#### Parte 1: El club \"PICA-PICA\"\n",
    "\n",
    "***Gale-Shapley con empates.***\n",
    "\n",
    "Vamos a resolver Gale-Shapley con indiferencia entre candidatos resolviendo empates de dos formas: orden alfabético y random. Podemos considerar que estamos usando la variante weakly-stable ya que estamos rompiendo los empates de forma arbitraria y después aplicamos Gale-Shapley simple para obtener las parejas. **Siempre hay match. No es asi en super y strongly-stable.**\n",
    "\n",
    "Podemos probar que es estable ya que si hay igual cantidad de oferentes que candidatos si hay un oferente que puede hacer propuestas entonces va a haber un candidato libre.\n",
    "\n",
    "Preliminarmente, el Gale-Shapley implementado tiene la siguiente invariante: si un jugador j del grupo de jugadores que aceptan/rechazan propuestas todavía no tiene pareja entonces acepta el primer ofrecimiento y luego, si es que se lo proponen, puede llegar a cambiar a su pareja por otra ques esté mejor posicionada en su ranking a medida que avanza el algoritmo, es decir, **el jugador j nunca deja de estar comprometido con alguien desde que tiene su primer propuesta**. No es así respecto a los jugadores que hacen las propuestas, estos pueden ir cambiando su estado durante la ejecución ya que pueden ser rechazados si su pareja consigue una mejor, esto quiere decir que el ranking de su pareja va decayendo a medida que hace propuestas.\n",
    "\n",
    "***Observaciones del Tardos***\n",
    "\n",
    "1.\n",
    "\n",
    "m prefers w to w′.\n",
    "m′ prefers w to w′.\n",
    "w prefers m to m′.\n",
    "w′ prefers m to m′.\n",
    "\n",
    "Here is a unique stable matching here, consisting of the pairs(m,w) and (m′,w′). The other perfect matching, consisting of thepairs(m′,w) and (m,w′), would not be a stable matching, because the pair(m,w)would form an instability with respect to this matching.\n",
    "\n",
    "2.\n",
    "\n",
    "m prefers w to w′.\n",
    "m′ prefers w′ to w.\n",
    "w prefers m′ to m.\n",
    "w′ prefers m to m′.\n",
    "\n",
    "In  this  second  example,  there  are  two  different  stable  matchings.  The matching consisting of the pairs(m,w) and (m′,w′)is stable, because both men are as happy as possible, so neither would leave their matched partner.But the matching consisting of the pairs(m′,w) and (m,w′)is also stable, for the complementary reason that both women are as happy as possible. It’s possible for an instance to have more than one stable matching. *El matching resultante depende de quienes son los oferentes que siempre es el más \"feliz\".*\n",
    "\n",
    "\n",
    "***Complejidad***\n",
    "\n",
    "Para armar las listas de preferencias se recorren los n jugadores para obtener sus datos, y a su vez por cada jugador se tiene recorrer las listas de preferencias de cada uno de ellos, que contienen a su vez n jugadores, por ende, cargar las listas de preferencias toma O(n2).\n",
    "En el peor caso posible cada jugador oferente va a preguntarle una vez a cada uno de sus candidatos, eso resulta O(n2). Todas las operaciones realizadas como preguntar si está libre, reemplazar una pareja por otra, etc. son operaciones O(1).\n",
    "\n",
    "#### Parte 2: Funciones matemáticas.\n",
    "\n",
    "Operaciones con listas, vectores."
   ]
  },
  {
   "cell_type": "code",
   "execution_count": null,
   "metadata": {},
   "outputs": [],
   "source": [
    "def gale_shapley(men: list):\n",
    "    pairs = set()\n",
    "    while len(men):\n",
    "        man = men.pop()\n",
    "        woman = man.pop_preferred()\n",
    "        if woman.is_free():\n",
    "            woman.engage(man)\n",
    "            man.engage(woman)\n",
    "            pairs.add((man, woman))\n",
    "        else:\n",
    "            if woman.prefers(man):\n",
    "                ex = woman.release()\n",
    "                pairs.remove((ex, woman))\n",
    "                ex.release()\n",
    "                men.append(ex)\n",
    "                woman.engage(man)\n",
    "                man.engage(woman)\n",
    "                pairs.add((man, woman))\n",
    "\n",
    "        if man.can_propose():\n",
    "            men.append(man)\n",
    "    return pairs"
   ]
  }
 ],
 "metadata": {
  "kernelspec": {
   "display_name": "Python 3",
   "language": "python",
   "name": "python3"
  },
  "language_info": {
   "codemirror_mode": {
    "name": "ipython",
    "version": 3
   },
   "file_extension": ".py",
   "mimetype": "text/x-python",
   "name": "python",
   "nbconvert_exporter": "python",
   "pygments_lexer": "ipython3",
   "version": "3.6.8"
  }
 },
 "nbformat": 4,
 "nbformat_minor": 2
}
